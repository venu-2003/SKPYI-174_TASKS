{
  "nbformat": 4,
  "nbformat_minor": 0,
  "metadata": {
    "colab": {
      "provenance": []
    },
    "kernelspec": {
      "name": "python3",
      "display_name": "Python 3"
    },
    "language_info": {
      "name": "python"
    }
  },
  "cells": [
    {
      "cell_type": "code",
      "execution_count": 1,
      "metadata": {
        "colab": {
          "base_uri": "https://localhost:8080/"
        },
        "id": "6UGM0FGFfQfe",
        "outputId": "88aa30ee-c578-4805-d160-97ee91b485b6"
      },
      "outputs": [
        {
          "output_type": "stream",
          "name": "stdout",
          "text": [
            "I Play Cricket\n",
            "I Play Ludo\n",
            "I Love Cricket\n",
            "I Love Ludo\n",
            "You Play Cricket\n",
            "You Play Ludo\n",
            "You Love Cricket\n",
            "You Love Ludo\n"
          ]
        }
      ],
      "source": [
        "subjects = [\"I\", \"You\"]\n",
        "verbs = [\"Play\", \"Love\"]\n",
        "objects = [\"Cricket\", \"Ludo\"]\n",
        "\n",
        "sentences = []\n",
        "\n",
        "for subject in subjects:\n",
        "    for verb in verbs:\n",
        "        for obj in objects:\n",
        "            sentences.append(f\"{subject} {verb} {obj}\")\n",
        "\n",
        "for sentence in sentences:\n",
        "    print(sentence)\n"
      ]
    },
    {
      "cell_type": "code",
      "source": [
        "\n",
        "\n",
        "import demoji\n",
        "\n",
        "# Ensure the emoji data is downloaded\n",
        "demoji.download_codes()\n",
        "\n",
        "def convert_emoji_to_text(text):\n",
        "    return demoji.replace_with_desc(text, sep=\":\")\n",
        "\n",
        "# Example usage\n",
        "text_with_emojis = \" often used when a person is begging or pleading for something, such as asking for forgiveness or a favor 🥺 and  someone is hot temperature-wise or they find someone else very attractiv🥵 !\"\n",
        "converted_text = convert_emoji_to_text(text_with_emojis)\n",
        "print(converted_text)\n",
        "\n"
      ],
      "metadata": {
        "colab": {
          "base_uri": "https://localhost:8080/"
        },
        "id": "242DDcrVnvPc",
        "outputId": "b958ab6c-61b9-44f1-d8dd-7ac332764de2"
      },
      "execution_count": 18,
      "outputs": [
        {
          "output_type": "stream",
          "name": "stdout",
          "text": [
            " often used when a person is begging or pleading for something, such as asking for forgiveness or a favor :pleading face: and  someone is hot temperature-wise or they find someone else very attractiv:hot face: !\n"
          ]
        },
        {
          "output_type": "stream",
          "name": "stderr",
          "text": [
            "<ipython-input-18-2b601c3d12bc>:4: FutureWarning: The demoji.download_codes attribute is deprecated and will be removed from demoji in a future version. It is an unused attribute as emoji codes are now distributed directly with the demoji package.\n",
            "  demoji.download_codes()\n"
          ]
        }
      ]
    }
  ]
}